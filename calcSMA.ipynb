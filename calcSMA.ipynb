{
 "cells": [
  {
   "cell_type": "code",
   "execution_count": 2,
   "metadata": {
    "collapsed": true
   },
   "outputs": [
    {
     "name": "stdout",
     "output_type": "stream",
     "text": [
      "     1     10     11     12     13     14     15   16     17     18 ...   \\\n0  100  105.0  106.0  108.0  109.0  111.0  111.0  112  111.0  110.0 ...    \n0  108  106.8  106.6  106.7  106.5  106.8  106.3  106  106.2  106.3 ...    \n0  100  105.0  106.0  108.0  109.0  111.0  111.0  112  111.0  110.0 ...    \n\n      29      3   30     31      4      5    6    7      8    9  \n0  108.2  102.0  108    NaN  102.0  103.0  104  104  104.0  104  \n0  107.5  107.9  107  107.3  107.5  107.2  107  107  107.4  107  \n0  108.2  102.0  108    NaN  102.0  103.0  104  104  104.0  104  \n\n[3 rows x 31 columns]\n"
     ]
    },
    {
     "ename": "NameError",
     "evalue": "name 'calcSMA' is not defined",
     "traceback": [
      "\u001b[1;31m\u001b[0m",
      "\u001b[1;31mNameError\u001b[0mTraceback (most recent call last)",
      "\u001b[1;32m<ipython-input-2-3d0f80b109ab>\u001b[0m in \u001b[0;36m<module>\u001b[1;34m()\u001b[0m\n\u001b[0;32m      4\u001b[0m \u001b[1;32mimport\u001b[0m \u001b[0mnumpy\u001b[0m \u001b[1;32mas\u001b[0m \u001b[0mnp\u001b[0m\u001b[1;33m\u001b[0m\u001b[0m\n\u001b[0;32m      5\u001b[0m \u001b[1;32mimport\u001b[0m \u001b[0mpandas\u001b[0m \u001b[1;32mas\u001b[0m \u001b[0mpd\u001b[0m\u001b[1;33m\u001b[0m\u001b[0m\n\u001b[1;32m----> 6\u001b[1;33m \u001b[1;32mimport\u001b[0m \u001b[0mimportData\u001b[0m\u001b[1;33m.\u001b[0m\u001b[0mpy\u001b[0m\u001b[1;33m\u001b[0m\u001b[0m\n\u001b[0m",
      "\u001b[1;32mC:\\Users\\kubo.hiroto\\PycharmProjects\\untitled\\importData.py\u001b[0m in \u001b[0;36m<module>\u001b[1;34m()\u001b[0m\n\u001b[0;32m     22\u001b[0m \u001b[1;32mprint\u001b[0m \u001b[0mdata\u001b[0m\u001b[1;33m\u001b[0m\u001b[0m\n\u001b[0;32m     23\u001b[0m \u001b[1;33m\u001b[0m\u001b[0m\n\u001b[1;32m---> 24\u001b[1;33m \u001b[0mcalcSMA\u001b[0m\u001b[1;33m.\u001b[0m\u001b[0mpy\u001b[0m\u001b[1;33m(\u001b[0m\u001b[0mdata\u001b[0m\u001b[1;33m)\u001b[0m\u001b[1;33m\u001b[0m\u001b[0m\n\u001b[0m\u001b[0;32m     25\u001b[0m \u001b[1;33m\u001b[0m\u001b[0m\n\u001b[0;32m     26\u001b[0m \u001b[1;31m# fileへ書き出し\u001b[0m\u001b[1;33m\u001b[0m\u001b[1;33m\u001b[0m\u001b[0m\n",
      "\u001b[1;31mNameError\u001b[0m: name 'calcSMA' is not defined"
     ],
     "output_type": "error"
    }
   ],
   "source": [
    "# -*- coding: UTF-8 -*-\n",
    "# 移動平均を計算する\n",
    "\n",
    "import numpy as np\n",
    "import pandas as pd\n",
    "import importData.py"
   ]
  },
  {
   "cell_type": "code",
   "execution_count": null,
   "metadata": {},
   "outputs": [],
   "source": [
    "# 単純移動平均の計算\n",
    "data = importData.data\n",
    "sma5 = pd.rolling_mean(data, 5)\n",
    "sma25 = pd.rolling_mean(data, 25)"
   ]
  },
  {
   "cell_type": "code",
   "execution_count": null,
   "metadata": {},
   "outputs": [],
   "source": [
    "# 移動平均（SMA5,SMA25）の大小でタイミング決定用のフラグを立てる\n",
    "def difference_SMA():\n",
    "    if sma5 - sma25 > 0:\n",
    "        flag = 1\n",
    "    elif sma5 - sma25 < 0:\n",
    "        flag = -1\n",
    "    else:\n",
    "        message()"
   ]
  },
  {
   "cell_type": "code",
   "execution_count": null,
   "metadata": {},
   "outputs": [],
   "source": [
    "# flagは過去のフラグと比較するため保存しておく\n",
    "# 過去のフラグは50件分保持する\n",
    "bkflag =  flag\n",
    "\n",
    "# flagが変化した時点でメッセージを投げる\n",
    "def message(flag, null=None):\n",
    "    if flag > flag[i-1]:\n",
    "        buy = 1\n",
    "    elif flag < flag[i-1]:\n",
    "        buy = -1\n",
    "    else:\n",
    "        return null\n",
    "\n",
    "# メッセージの内容\n",
    "def message():"
   ]
  },
  {
   "cell_type": "code",
   "execution_count": null,
   "metadata": {},
   "outputs": [],
   "source": [
    ""
   ]
  }
 ],
 "metadata": {
  "kernelspec": {
   "display_name": "Python 2",
   "language": "python",
   "name": "python2"
  },
  "language_info": {
   "codemirror_mode": {
    "name": "ipython",
    "version": 2.0
   },
   "file_extension": ".py",
   "mimetype": "text/x-python",
   "name": "python",
   "nbconvert_exporter": "python",
   "pygments_lexer": "ipython2",
   "version": "2.7.6"
  }
 },
 "nbformat": 4,
 "nbformat_minor": 0
}