{
 "cells": [
  {
   "cell_type": "code",
   "execution_count": null,
   "metadata": {
    "collapsed": true
   },
   "outputs": [],
   "source": [
    "# -*- coding: UTF-8 -*-\n",
    "# dataをインポートする\n",
    "\n",
    "import numpy as np\n",
    "import pandas as pd\n",
    "import os\n",
    "import savefiles"
   ]
  },
  {
   "cell_type": "code",
   "execution_count": null,
   "metadata": {},
   "outputs": [],
   "source": [
    "# dataの置き場情報の設定\n",
    "script_dir = os.path.abspath(os.path.dirname(__file__))\n",
    "data_dir = \"%s\\data\" % script_dir"
   ]
  },
  {
   "cell_type": "code",
   "execution_count": null,
   "metadata": {},
   "outputs": [],
   "source": [
    "# ファイルの読み込み\n",
    "data = pd.DataFrame(index=[], columns=[])\n",
    "for i in range(1, 4):\n",
    "    file_name = \"2016%02d.csv\" % i\n",
    "    data_tmp = pd.read_csv(\"%s\\%s\" % (data_dir, file_name))\n",
    "    # data_tmp.index = [\"%d\" % i]\n",
    "    # data.append(data, data_tmp)\n",
    "    data = pd.concat([data, data_tmp], axis=0)\n",
    "data.sort_index(axis=0)\n",
    "print data"
   ]
  },
  {
   "cell_type": "code",
   "execution_count": null,
   "metadata": {},
   "outputs": [],
   "source": [
    ""
   ]
  }
 ],
 "metadata": {
  "kernelspec": {
   "display_name": "Python 2",
   "language": "python",
   "name": "python2"
  },
  "language_info": {
   "codemirror_mode": {
    "name": "ipython",
    "version": 2.0
   },
   "file_extension": ".py",
   "mimetype": "text/x-python",
   "name": "python",
   "nbconvert_exporter": "python",
   "pygments_lexer": "ipython2",
   "version": "2.7.6"
  }
 },
 "nbformat": 4,
 "nbformat_minor": 0
}